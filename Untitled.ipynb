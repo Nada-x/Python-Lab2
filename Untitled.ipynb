{
 "cells": [
  {
   "cell_type": "code",
   "execution_count": 1,
   "id": "e2d61cbf-45b0-45e5-bad6-0c48daec6dff",
   "metadata": {},
   "outputs": [
    {
     "name": "stdout",
     "output_type": "stream",
     "text": [
      "I recommended it, It is good\n"
     ]
    }
   ],
   "source": [
    "movie= \"oppenheimer\"\n",
    "rate= 3\n",
    "popularity= 72.65\n",
    "\n",
    "if rate >= 4 and popularity > 80: \n",
    "    print (\"Highly recommended\")\n",
    "\n",
    "elif rate >= 3 and popularity > 70:\n",
    "    print (\"I recommended it, It is good\")\n",
    "\n",
    "elif rate <= 2 and popularity > 60:\n",
    "    print (\"You should check it out!\")\n",
    "\n",
    "else:\n",
    "    print (\"Don't watch it, It is a waste of time\")\n",
    "\n",
    "\n",
    "\n"
   ]
  },
  {
   "cell_type": "code",
   "execution_count": null,
   "id": "fbb0b4c7-0147-4a2f-aaea-e24d3e404b06",
   "metadata": {},
   "outputs": [],
   "source": []
  }
 ],
 "metadata": {
  "kernelspec": {
   "display_name": "Python 3 (ipykernel)",
   "language": "python",
   "name": "python3"
  },
  "language_info": {
   "codemirror_mode": {
    "name": "ipython",
    "version": 3
   },
   "file_extension": ".py",
   "mimetype": "text/x-python",
   "name": "python",
   "nbconvert_exporter": "python",
   "pygments_lexer": "ipython3",
   "version": "3.11.4"
  }
 },
 "nbformat": 4,
 "nbformat_minor": 5
}
